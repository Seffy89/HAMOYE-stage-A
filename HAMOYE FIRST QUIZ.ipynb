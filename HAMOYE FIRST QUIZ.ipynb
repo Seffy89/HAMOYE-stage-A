{
 "cells": [
  {
   "cell_type": "code",
   "execution_count": 1,
   "id": "734baeb6",
   "metadata": {},
   "outputs": [],
   "source": [
    "import pandas as pd\n",
    "import numpy as np"
   ]
  },
  {
   "cell_type": "code",
   "execution_count": 2,
   "id": "c58c4aa6",
   "metadata": {},
   "outputs": [],
   "source": [
    "# Reading the data"
   ]
  },
  {
   "cell_type": "code",
   "execution_count": 4,
   "id": "bc785a9a",
   "metadata": {},
   "outputs": [],
   "source": [
    "df = pd.read_excel('Hamoye FoodBalanceSheets_E_Africa_NOFLAG.xlsx', encoding = 'latin-1' )"
   ]
  },
  {
   "cell_type": "markdown",
   "id": "17540073",
   "metadata": {},
   "source": [
    "Showing the first five data as head and the last five data of the dataset as tail"
   ]
  },
  {
   "cell_type": "code",
   "execution_count": 42,
   "id": "8f82fe13",
   "metadata": {
    "scrolled": true
   },
   "outputs": [
    {
     "data": {
      "text/html": [
       "<div>\n",
       "<style scoped>\n",
       "    .dataframe tbody tr th:only-of-type {\n",
       "        vertical-align: middle;\n",
       "    }\n",
       "\n",
       "    .dataframe tbody tr th {\n",
       "        vertical-align: top;\n",
       "    }\n",
       "\n",
       "    .dataframe thead th {\n",
       "        text-align: right;\n",
       "    }\n",
       "</style>\n",
       "<table border=\"1\" class=\"dataframe\">\n",
       "  <thead>\n",
       "    <tr style=\"text-align: right;\">\n",
       "      <th></th>\n",
       "      <th>Area Code</th>\n",
       "      <th>Area</th>\n",
       "      <th>Item Code</th>\n",
       "      <th>Item</th>\n",
       "      <th>Element Code</th>\n",
       "      <th>Element</th>\n",
       "      <th>Unit</th>\n",
       "      <th>Y2014</th>\n",
       "      <th>Y2015</th>\n",
       "      <th>Y2016</th>\n",
       "      <th>Y2017</th>\n",
       "      <th>Y2018</th>\n",
       "    </tr>\n",
       "  </thead>\n",
       "  <tbody>\n",
       "    <tr>\n",
       "      <th>0</th>\n",
       "      <td>4</td>\n",
       "      <td>Algeria</td>\n",
       "      <td>2501</td>\n",
       "      <td>Population</td>\n",
       "      <td>511</td>\n",
       "      <td>Total Population - Both sexes</td>\n",
       "      <td>1000 persons</td>\n",
       "      <td>38924.00</td>\n",
       "      <td>39728.00</td>\n",
       "      <td>40551.00</td>\n",
       "      <td>41389.00</td>\n",
       "      <td>42228.00</td>\n",
       "    </tr>\n",
       "    <tr>\n",
       "      <th>1</th>\n",
       "      <td>4</td>\n",
       "      <td>Algeria</td>\n",
       "      <td>2501</td>\n",
       "      <td>Population</td>\n",
       "      <td>5301</td>\n",
       "      <td>Domestic supply quantity</td>\n",
       "      <td>1000 tonnes</td>\n",
       "      <td>0.00</td>\n",
       "      <td>0.00</td>\n",
       "      <td>0.00</td>\n",
       "      <td>0.00</td>\n",
       "      <td>0.00</td>\n",
       "    </tr>\n",
       "    <tr>\n",
       "      <th>2</th>\n",
       "      <td>4</td>\n",
       "      <td>Algeria</td>\n",
       "      <td>2901</td>\n",
       "      <td>Grand Total</td>\n",
       "      <td>664</td>\n",
       "      <td>Food supply (kcal/capita/day)</td>\n",
       "      <td>kcal/capita/day</td>\n",
       "      <td>3377.00</td>\n",
       "      <td>3379.00</td>\n",
       "      <td>3372.00</td>\n",
       "      <td>3341.00</td>\n",
       "      <td>3322.00</td>\n",
       "    </tr>\n",
       "    <tr>\n",
       "      <th>3</th>\n",
       "      <td>4</td>\n",
       "      <td>Algeria</td>\n",
       "      <td>2901</td>\n",
       "      <td>Grand Total</td>\n",
       "      <td>674</td>\n",
       "      <td>Protein supply quantity (g/capita/day)</td>\n",
       "      <td>g/capita/day</td>\n",
       "      <td>94.90</td>\n",
       "      <td>94.35</td>\n",
       "      <td>94.72</td>\n",
       "      <td>92.82</td>\n",
       "      <td>91.83</td>\n",
       "    </tr>\n",
       "    <tr>\n",
       "      <th>4</th>\n",
       "      <td>4</td>\n",
       "      <td>Algeria</td>\n",
       "      <td>2901</td>\n",
       "      <td>Grand Total</td>\n",
       "      <td>684</td>\n",
       "      <td>Fat supply quantity (g/capita/day)</td>\n",
       "      <td>g/capita/day</td>\n",
       "      <td>80.06</td>\n",
       "      <td>79.36</td>\n",
       "      <td>77.40</td>\n",
       "      <td>80.19</td>\n",
       "      <td>77.28</td>\n",
       "    </tr>\n",
       "  </tbody>\n",
       "</table>\n",
       "</div>"
      ],
      "text/plain": [
       "   Area Code     Area  Item Code         Item  Element Code  \\\n",
       "0          4  Algeria       2501   Population           511   \n",
       "1          4  Algeria       2501   Population          5301   \n",
       "2          4  Algeria       2901  Grand Total           664   \n",
       "3          4  Algeria       2901  Grand Total           674   \n",
       "4          4  Algeria       2901  Grand Total           684   \n",
       "\n",
       "                                  Element             Unit     Y2014  \\\n",
       "0           Total Population - Both sexes     1000 persons  38924.00   \n",
       "1                Domestic supply quantity      1000 tonnes      0.00   \n",
       "2           Food supply (kcal/capita/day)  kcal/capita/day   3377.00   \n",
       "3  Protein supply quantity (g/capita/day)     g/capita/day     94.90   \n",
       "4      Fat supply quantity (g/capita/day)     g/capita/day     80.06   \n",
       "\n",
       "      Y2015     Y2016     Y2017     Y2018  \n",
       "0  39728.00  40551.00  41389.00  42228.00  \n",
       "1      0.00      0.00      0.00      0.00  \n",
       "2   3379.00   3372.00   3341.00   3322.00  \n",
       "3     94.35     94.72     92.82     91.83  \n",
       "4     79.36     77.40     80.19     77.28  "
      ]
     },
     "execution_count": 42,
     "metadata": {},
     "output_type": "execute_result"
    }
   ],
   "source": [
    "df.head()"
   ]
  },
  {
   "cell_type": "code",
   "execution_count": 6,
   "id": "853dcbf6",
   "metadata": {},
   "outputs": [
    {
     "data": {
      "text/html": [
       "<div>\n",
       "<style scoped>\n",
       "    .dataframe tbody tr th:only-of-type {\n",
       "        vertical-align: middle;\n",
       "    }\n",
       "\n",
       "    .dataframe tbody tr th {\n",
       "        vertical-align: top;\n",
       "    }\n",
       "\n",
       "    .dataframe thead th {\n",
       "        text-align: right;\n",
       "    }\n",
       "</style>\n",
       "<table border=\"1\" class=\"dataframe\">\n",
       "  <thead>\n",
       "    <tr style=\"text-align: right;\">\n",
       "      <th></th>\n",
       "      <th>Area Code</th>\n",
       "      <th>Area</th>\n",
       "      <th>Item Code</th>\n",
       "      <th>Item</th>\n",
       "      <th>Element Code</th>\n",
       "      <th>Element</th>\n",
       "      <th>Unit</th>\n",
       "      <th>Y2014</th>\n",
       "      <th>Y2015</th>\n",
       "      <th>Y2016</th>\n",
       "      <th>Y2017</th>\n",
       "      <th>Y2018</th>\n",
       "    </tr>\n",
       "  </thead>\n",
       "  <tbody>\n",
       "    <tr>\n",
       "      <th>60938</th>\n",
       "      <td>181</td>\n",
       "      <td>Zimbabwe</td>\n",
       "      <td>2899</td>\n",
       "      <td>Miscellaneous</td>\n",
       "      <td>5142</td>\n",
       "      <td>Food</td>\n",
       "      <td>1000 tonnes</td>\n",
       "      <td>42.00</td>\n",
       "      <td>46.00</td>\n",
       "      <td>33.00</td>\n",
       "      <td>19.00</td>\n",
       "      <td>16.00</td>\n",
       "    </tr>\n",
       "    <tr>\n",
       "      <th>60939</th>\n",
       "      <td>181</td>\n",
       "      <td>Zimbabwe</td>\n",
       "      <td>2899</td>\n",
       "      <td>Miscellaneous</td>\n",
       "      <td>645</td>\n",
       "      <td>Food supply quantity (kg/capita/yr)</td>\n",
       "      <td>kg</td>\n",
       "      <td>3.06</td>\n",
       "      <td>3.33</td>\n",
       "      <td>2.35</td>\n",
       "      <td>1.33</td>\n",
       "      <td>1.08</td>\n",
       "    </tr>\n",
       "    <tr>\n",
       "      <th>60940</th>\n",
       "      <td>181</td>\n",
       "      <td>Zimbabwe</td>\n",
       "      <td>2899</td>\n",
       "      <td>Miscellaneous</td>\n",
       "      <td>664</td>\n",
       "      <td>Food supply (kcal/capita/day)</td>\n",
       "      <td>kcal/capita/day</td>\n",
       "      <td>3.00</td>\n",
       "      <td>4.00</td>\n",
       "      <td>3.00</td>\n",
       "      <td>1.00</td>\n",
       "      <td>1.00</td>\n",
       "    </tr>\n",
       "    <tr>\n",
       "      <th>60941</th>\n",
       "      <td>181</td>\n",
       "      <td>Zimbabwe</td>\n",
       "      <td>2899</td>\n",
       "      <td>Miscellaneous</td>\n",
       "      <td>674</td>\n",
       "      <td>Protein supply quantity (g/capita/day)</td>\n",
       "      <td>g/capita/day</td>\n",
       "      <td>0.10</td>\n",
       "      <td>0.11</td>\n",
       "      <td>0.08</td>\n",
       "      <td>0.04</td>\n",
       "      <td>0.04</td>\n",
       "    </tr>\n",
       "    <tr>\n",
       "      <th>60942</th>\n",
       "      <td>181</td>\n",
       "      <td>Zimbabwe</td>\n",
       "      <td>2899</td>\n",
       "      <td>Miscellaneous</td>\n",
       "      <td>684</td>\n",
       "      <td>Fat supply quantity (g/capita/day)</td>\n",
       "      <td>g/capita/day</td>\n",
       "      <td>0.04</td>\n",
       "      <td>0.05</td>\n",
       "      <td>0.03</td>\n",
       "      <td>0.02</td>\n",
       "      <td>0.01</td>\n",
       "    </tr>\n",
       "  </tbody>\n",
       "</table>\n",
       "</div>"
      ],
      "text/plain": [
       "       Area Code      Area  Item Code           Item  Element Code  \\\n",
       "60938        181  Zimbabwe       2899  Miscellaneous          5142   \n",
       "60939        181  Zimbabwe       2899  Miscellaneous           645   \n",
       "60940        181  Zimbabwe       2899  Miscellaneous           664   \n",
       "60941        181  Zimbabwe       2899  Miscellaneous           674   \n",
       "60942        181  Zimbabwe       2899  Miscellaneous           684   \n",
       "\n",
       "                                      Element             Unit  Y2014  Y2015  \\\n",
       "60938                                    Food      1000 tonnes  42.00  46.00   \n",
       "60939     Food supply quantity (kg/capita/yr)               kg   3.06   3.33   \n",
       "60940           Food supply (kcal/capita/day)  kcal/capita/day   3.00   4.00   \n",
       "60941  Protein supply quantity (g/capita/day)     g/capita/day   0.10   0.11   \n",
       "60942      Fat supply quantity (g/capita/day)     g/capita/day   0.04   0.05   \n",
       "\n",
       "       Y2016  Y2017  Y2018  \n",
       "60938  33.00  19.00  16.00  \n",
       "60939   2.35   1.33   1.08  \n",
       "60940   3.00   1.00   1.00  \n",
       "60941   0.08   0.04   0.04  \n",
       "60942   0.03   0.02   0.01  "
      ]
     },
     "execution_count": 6,
     "metadata": {},
     "output_type": "execute_result"
    }
   ],
   "source": [
    "df.tail()"
   ]
  },
  {
   "cell_type": "code",
   "execution_count": 7,
   "id": "f04569a1",
   "metadata": {},
   "outputs": [
    {
     "name": "stdout",
     "output_type": "stream",
     "text": [
      "<class 'pandas.core.frame.DataFrame'>\n",
      "RangeIndex: 60943 entries, 0 to 60942\n",
      "Data columns (total 12 columns):\n",
      " #   Column        Non-Null Count  Dtype  \n",
      "---  ------        --------------  -----  \n",
      " 0   Area Code     60943 non-null  int64  \n",
      " 1   Area          60943 non-null  object \n",
      " 2   Item Code     60943 non-null  int64  \n",
      " 3   Item          60943 non-null  object \n",
      " 4   Element Code  60943 non-null  int64  \n",
      " 5   Element       60943 non-null  object \n",
      " 6   Unit          60943 non-null  object \n",
      " 7   Y2014         59354 non-null  float64\n",
      " 8   Y2015         59395 non-null  float64\n",
      " 9   Y2016         59408 non-null  float64\n",
      " 10  Y2017         59437 non-null  float64\n",
      " 11  Y2018         59507 non-null  float64\n",
      "dtypes: float64(5), int64(3), object(4)\n",
      "memory usage: 5.6+ MB\n"
     ]
    }
   ],
   "source": [
    "df.info()"
   ]
  },
  {
   "cell_type": "markdown",
   "id": "b3bbe3b7",
   "metadata": {},
   "source": [
    "calculating the null values for each column"
   ]
  },
  {
   "cell_type": "code",
   "execution_count": 8,
   "id": "f746fc90",
   "metadata": {},
   "outputs": [
    {
     "data": {
      "text/plain": [
       "Area Code          0\n",
       "Area               0\n",
       "Item Code          0\n",
       "Item               0\n",
       "Element Code       0\n",
       "Element            0\n",
       "Unit               0\n",
       "Y2014           1589\n",
       "Y2015           1548\n",
       "Y2016           1535\n",
       "Y2017           1506\n",
       "Y2018           1436\n",
       "dtype: int64"
      ]
     },
     "execution_count": 8,
     "metadata": {},
     "output_type": "execute_result"
    }
   ],
   "source": [
    "df.isnull().sum()"
   ]
  },
  {
   "cell_type": "code",
   "execution_count": 9,
   "id": "47a38ae9",
   "metadata": {},
   "outputs": [
    {
     "data": {
      "text/plain": [
       "Index(['Area Code', 'Area', 'Item Code', 'Item', 'Element Code', 'Element',\n",
       "       'Unit', 'Y2014', 'Y2015', 'Y2016', 'Y2017', 'Y2018'],\n",
       "      dtype='object')"
      ]
     },
     "execution_count": 9,
     "metadata": {},
     "output_type": "execute_result"
    }
   ],
   "source": [
    "df.columns"
   ]
  },
  {
   "cell_type": "markdown",
   "id": "9be1b43e",
   "metadata": {},
   "source": [
    "QUESTION: Which year had the least correlation with ‘Element Code’?"
   ]
  },
  {
   "cell_type": "code",
   "execution_count": 10,
   "id": "e9e79794",
   "metadata": {},
   "outputs": [
    {
     "name": "stdout",
     "output_type": "stream",
     "text": [
      " The Year with the least correlation with 'Element Code':\n",
      "Y2016    0.023444\n",
      "Name: Element Code, dtype: float64\n"
     ]
    }
   ],
   "source": [
    "relevant_columns = ['Element Code', 'Y2014', 'Y2015', 'Y2016', 'Y2017', 'Y2018']\n",
    "data_subset = df[relevant_columns]\n",
    "\n",
    "# Calculating correlation coefficients of the element code with the years\n",
    "correlations = data_subset.corr()['Element Code']\n",
    "\n",
    "# Finding the year with the least correlation\n",
    "least_correlated_year = correlations[correlations.abs() == correlations.abs().min()]\n",
    "\n",
    "print(\" The Year with the least correlation with 'Element Code':\" )\n",
    "print(least_correlated_year)"
   ]
  },
  {
   "cell_type": "markdown",
   "id": "082d5698",
   "metadata": {},
   "source": [
    "QUESTION: What is the total Protein supply quantity in Madagascar in 2015?"
   ]
  },
  {
   "cell_type": "code",
   "execution_count": 43,
   "id": "5a30e599",
   "metadata": {},
   "outputs": [
    {
     "name": "stdout",
     "output_type": "stream",
     "text": [
      "Total Protein supply quantity in Madagascar in 2015 is: 173.05\n"
     ]
    }
   ],
   "source": [
    "madagascar_df = df[df['Area'] == 'Madagascar']\n",
    "\n",
    "madagascar_2015_df = madagascar_df[madagascar_df['Y2015'] != 0]\n",
    "\n",
    "protein_supply_df = madagascar_2015_df[madagascar_2015_df['Element'] == 'Protein supply quantity (g/capita/day)']\n",
    "\n",
    "# Sum up the values in the 'Y2015' column to get the total Protein supply quantity in Madagascar in 2015\n",
    "total_protein_supply_madagascar_2015 =round(protein_supply_df['Y2015'].sum(),2)\n",
    "\n",
    "print(\"Total Protein supply quantity in Madagascar in 2015 is:\", total_protein_supply_madagascar_2015)"
   ]
  },
  {
   "cell_type": "markdown",
   "id": "fa97c5f0",
   "metadata": {},
   "source": [
    "QUESTION: Select columns ‘Y2017’ and ‘Area’, Perform a groupby operation on ‘Area’.  Which of these Areas had the 7th lowest sum in 2017?"
   ]
  },
  {
   "cell_type": "code",
   "execution_count": 12,
   "id": "fd482664",
   "metadata": {},
   "outputs": [
    {
     "name": "stdout",
     "output_type": "stream",
     "text": [
      "The area with the 7th lowest sum in 2017 is: Guinea-Bissau\n"
     ]
    }
   ],
   "source": [
    "selected_df = df[['Y2017', 'Area']]\n",
    "\n",
    "sums_2017 = selected_df.groupby('Area')['Y2017'].sum().reset_index()\n",
    "\n",
    "# Sorting the sums in ascending order\n",
    "sorted_sums_2017 = sums_2017.sort_values(by='Y2017')\n",
    "\n",
    "# Finding the area with the 7th lowest sum in 2017\n",
    "seventh_lowest_area = sorted_sums_2017.iloc[6]['Area']\n",
    "\n",
    "print(\"The area with the 7th lowest sum in 2017 is:\", seventh_lowest_area)"
   ]
  },
  {
   "cell_type": "markdown",
   "id": "90c1922f",
   "metadata": {},
   "source": [
    "QUESTION: Perform a groupby operation on ‘Element’.  What is the total number of the sum of Processing in 2017?"
   ]
  },
  {
   "cell_type": "code",
   "execution_count": 40,
   "id": "4a9fb677",
   "metadata": {},
   "outputs": [
    {
     "name": "stdout",
     "output_type": "stream",
     "text": [
      "The total sum of Processing in 2017 is: 292836.0\n"
     ]
    }
   ],
   "source": [
    "# Groupby operation on 'Element' and summing the values for each element\n",
    "element_sum = df.groupby('Element')['Y2017'].sum()\n",
    "\n",
    "# Extracting the sum of 'Processing' from the grouped data\n",
    "processing_sum_2017 = element_sum.get('Processing', 0)  # Get the sum of 'Processing' or 0 if it's not found\n",
    "\n",
    "print(\"The total sum of Processing in 2017 is:\", processing_sum_2017)"
   ]
  },
  {
   "cell_type": "markdown",
   "id": "c7b87c5c",
   "metadata": {},
   "source": [
    "QUESTION: What is the total number and percentage of missing data in 2014 to 3 decimal places?"
   ]
  },
  {
   "cell_type": "code",
   "execution_count": 41,
   "id": "a7a2be10",
   "metadata": {},
   "outputs": [
    {
     "name": "stdout",
     "output_type": "stream",
     "text": [
      "Total number of missing data in 2014: 1589\n",
      "Percentage of missing data in 2014: 2.607 %\n"
     ]
    }
   ],
   "source": [
    "# Calculating the total number of missing values in 2014\n",
    "missing_values_2014 = df['Y2014'].isnull().sum()\n",
    "\n",
    "# Calculating the total number of rows\n",
    "total_rows = len(df)\n",
    "\n",
    "# Calculating the percentage of missing data in 2014\n",
    "percentage_missing_2014 = (missing_values_2014 / total_rows) * 100\n",
    "\n",
    "# Print the results rounded to 3 decimal places\n",
    "print(\"Total number of missing data in 2014:\", missing_values_2014)\n",
    "print(\"Percentage of missing data in 2014:\", round(percentage_missing_2014, 3), \"%\")"
   ]
  },
  {
   "cell_type": "markdown",
   "id": "3410c73a",
   "metadata": {},
   "source": [
    "QUESTION: What is the mean and standard deviation across the whole dataset for the year 2017 to 2 decimal places?"
   ]
  },
  {
   "cell_type": "code",
   "execution_count": 15,
   "id": "0011a7e1",
   "metadata": {},
   "outputs": [
    {
     "name": "stdout",
     "output_type": "stream",
     "text": [
      "The Mean across the year 2017 is : 140.92\n",
      "The Mean across the year 2017 is : 1671.86\n"
     ]
    }
   ],
   "source": [
    "mean_2017 = round(df['Y2017'].mean(),2)\n",
    "\n",
    "std_dev_2017 = round(df['Y2017'].std(),2)\n",
    "\n",
    "print('The Mean across the year 2017 is :' ,mean_2017) \n",
    "print('The Mean across the year 2017 is :' ,std_dev_2017) "
   ]
  },
  {
   "cell_type": "markdown",
   "id": "b405322c",
   "metadata": {},
   "source": [
    "QUESTION: Select columns ‘Y2017’ and ‘Area’, Perform a groupby operation on ‘Area’. Which of these Areas had the highest sum in 2017?"
   ]
  },
  {
   "cell_type": "code",
   "execution_count": 16,
   "id": "e70df0d5",
   "metadata": {},
   "outputs": [
    {
     "name": "stdout",
     "output_type": "stream",
     "text": [
      "The area with the highest area sum in 2017 is: Nigeria\n"
     ]
    }
   ],
   "source": [
    "selected_df = df[['Y2017', 'Area']]\n",
    "\n",
    "sums_2017 = selected_df.groupby('Area')['Y2017'].sum().reset_index()\n",
    "\n",
    "# Sorting the sums in ascending order\n",
    "sorted_sums_2017 = sums_2017.sort_values(by='Y2017', ascending=False)\n",
    "\n",
    "# Finding the area with the 7th lowest sum in 2017\n",
    "highest_sum_area = sorted_sums_2017.iloc[0]['Area']\n",
    "\n",
    "print(\"The area with the highest area sum in 2017 is:\", highest_sum_area)"
   ]
  },
  {
   "cell_type": "code",
   "execution_count": null,
   "id": "ea18a8eb",
   "metadata": {},
   "outputs": [],
   "source": [
    "QUESTION: Perform a groupby operation on ‘Element’. What year has the highest sum of Stock Variation?"
   ]
  },
  {
   "cell_type": "code",
   "execution_count": 24,
   "id": "e15223c9",
   "metadata": {},
   "outputs": [
    {
     "name": "stdout",
     "output_type": "stream",
     "text": [
      "The year with the highest sum of Stock Variation is: Y2014\n"
     ]
    }
   ],
   "source": [
    "element_year_sum = df.groupby('Element')[['Y2014', 'Y2015', 'Y2016', 'Y2017', 'Y2018']].sum()\n",
    "\n",
    "stock_variation_sum_per_year = element_year_sum.loc['Stock Variation']\n",
    "\n",
    "# Finding the year with the highest sum of 'Stock Variation'\n",
    "max_stock_variation_year = stock_variation_sum_per_year.idxmax()\n",
    "\n",
    "print(\"The year with the highest sum of Stock Variation is:\", max_stock_variation_year)"
   ]
  },
  {
   "cell_type": "markdown",
   "id": "681e5c22",
   "metadata": {},
   "source": [
    "QUESTION: Answer the following questions based on the African food production dataset provided by the FAO website already provided\n",
    "\n",
    "What is the total sum of Wine produced in 2015 and 2018 respectively?"
   ]
  },
  {
   "cell_type": "code",
   "execution_count": 38,
   "id": "d92ee15e",
   "metadata": {},
   "outputs": [
    {
     "name": "stdout",
     "output_type": "stream",
     "text": [
      "Total wine production for 2015: 4251.81\n",
      "Total wine production for 2018: 4039.32\n"
     ]
    }
   ],
   "source": [
    "\n",
    "wine_production_2015 = df[(df['Item'] == 'Wine')][['Item', 'Y2015']]\n",
    "wine_production_2018 = df[(df['Item'] == 'Wine')][['Item', 'Y2018']]\n",
    "\n",
    "total_wine_production_2015 = round(wine_production_2015['Y2015'].sum(),2)\n",
    "total_wine_production_2018 = round(wine_production_2018['Y2018'].sum(),2)\n",
    "\n",
    "\n",
    "print(\"Total wine production for 2015:\", total_wine_production_2015)\n",
    "print(\"Total wine production for 2018:\", total_wine_production_2018)"
   ]
  },
  {
   "cell_type": "markdown",
   "id": "10e06602",
   "metadata": {},
   "source": [
    "QUESTION: What is the total number of unique countries in the dataset?"
   ]
  },
  {
   "cell_type": "code",
   "execution_count": 39,
   "id": "e6c0fe9d",
   "metadata": {},
   "outputs": [
    {
     "name": "stdout",
     "output_type": "stream",
     "text": [
      "Total number of unique countries in the dataset: 49\n"
     ]
    }
   ],
   "source": [
    "total_unique_countries = df['Area'].nunique()\n",
    "print(\"Total number of unique countries in the dataset:\", total_unique_countries)"
   ]
  }
 ],
 "metadata": {
  "kernelspec": {
   "display_name": "Python 3 (ipykernel)",
   "language": "python",
   "name": "python3"
  },
  "language_info": {
   "codemirror_mode": {
    "name": "ipython",
    "version": 3
   },
   "file_extension": ".py",
   "mimetype": "text/x-python",
   "name": "python",
   "nbconvert_exporter": "python",
   "pygments_lexer": "ipython3",
   "version": "3.11.5"
  }
 },
 "nbformat": 4,
 "nbformat_minor": 5
}
